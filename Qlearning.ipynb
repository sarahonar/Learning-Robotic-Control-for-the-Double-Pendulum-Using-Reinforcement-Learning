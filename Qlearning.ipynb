{
 "cells": [
  {
   "cell_type": "code",
   "execution_count": 1,
   "metadata": {},
   "outputs": [],
   "source": [
    "import sys\n",
    "import gym\n",
    "import numpy as np\n",
    "import matplotlib.pyplot as plt\n",
    "import pandas as pd"
   ]
  },
  {
   "cell_type": "code",
   "execution_count": 52,
   "metadata": {},
   "outputs": [],
   "source": [
    "def create_tiling_grid(low, high, bins=(10, 10), offsets=(0.0, 0.0)):\n",
    "\n",
    "    grid = [np.linspace(low[dim], high[dim], bins[dim] + 1)[1:-1] + offsets[dim] for dim in range(len(bins))]\n",
    "    print(\"Tiling: [<low>, <high>] / <bins> + (<offset>) => <splits>\")\n",
    "    for l, h, b, o, splits in zip(low, high, bins, offsets, grid):\n",
    "        print(\"    [{}, {}] / {} + ({}) => {}\".format(l, h, b, o, splits))\n",
    "    return grid\n",
    "def create_tilings(low, high, tiling_specs):\n",
    "\n",
    "    return [create_tiling_grid(low, high, bins, offsets) for bins, offsets in tiling_specs]\n",
    "\n",
    "def discretize(sample, grid):\n",
    "    \n",
    "    return tuple(int(np.digitize(s, g)) for s, g in zip(sample, grid))  # apply along each dimension\n",
    "\n",
    "def tile_encode(sample, tilings, flatten=False):\n",
    "\n",
    "\n",
    "    encoded_sample = [discretize(sample, grid) for grid in tilings]\n",
    "    return np.concatenate(encoded_sample) if flatten else encoded_sample"
   ]
  },
  {
   "cell_type": "code",
   "execution_count": 53,
   "metadata": {},
   "outputs": [],
   "source": [
    "class QTable:\n",
    "\n",
    "    def __init__(self, state_size, action_size):\n",
    "\n",
    "        self.state_size = state_size\n",
    "        self.action_size = action_size\n",
    "        self.q_table = np.zeros(shape=(self.state_size + (self.action_size,)))\n",
    "        print(\"QTable(): size =\", self.q_table.shape)\n",
    "class TiledQTable:\n",
    "    \n",
    "    def __init__(self, low, high, tiling_specs, action_size):\n",
    "\n",
    "        self.tilings = create_tilings(low, high, tiling_specs)\n",
    "        self.state_sizes = [tuple(len(splits)+1 for splits in tiling_grid) for tiling_grid in self.tilings]\n",
    "        self.action_size = action_size\n",
    "        self.q_tables = [QTable(state_size, self.action_size) for state_size in self.state_sizes]\n",
    "        print(\"TiledQTable(): no. of internal tables = \", len(self.q_tables))\n",
    "    def get(self, state, action):\n",
    "\n",
    "        encoded_state = tile_encode(state, self.tilings)\n",
    "        \n",
    "        value = 0.0\n",
    "        for idx, q_table in zip(encoded_state, self.q_tables):\n",
    "            value += q_table.q_table[tuple(idx + (action,))]\n",
    "        value /= len(self.q_tables)\n",
    "        return value\n",
    "    def update(self, state, action, value, alpha=0.1):\n",
    "\n",
    "        encoded_state = tile_encode(state, self.tilings)\n",
    "        for idx, q_table in zip(encoded_state, self.q_tables):\n",
    "            value_ = q_table.q_table[tuple(idx + (action,))]  # current value\n",
    "            q_table.q_table[tuple(idx + (action,))] = alpha * value + (1.0 - alpha) * value_\n"
   ]
  },
  {
   "cell_type": "code",
   "execution_count": 9,
   "metadata": {},
   "outputs": [],
   "source": [
    "class QLearningAgent:\n",
    "    \"\"\"Q-Learning agent that can act on a continuous state space by discretizing it.\"\"\"\n",
    "\n",
    "    def __init__(self, env, tq, alpha=0.02, gamma=0.99,\n",
    "                 epsilon=1.0, epsilon_decay_rate=0.9995, min_epsilon=.01, seed=0):\n",
    "        \n",
    "        # Environment info\n",
    "        self.env = env\n",
    "        self.tq = tq \n",
    "        self.state_sizes = tq.state_sizes           \n",
    "        self.action_size = self.env.action_space.n  \n",
    "        self.seed = np.random.seed(seed)\n",
    "        print(\"Environment:\", self.env)\n",
    "        print(\"State space sizes:\", self.state_sizes)\n",
    "        print(\"Action space size:\", self.action_size)\n",
    "        \n",
    "        # Hyperparameters \n",
    "        self.alpha = alpha  # learning rate\n",
    "        self.gamma = gamma  # discount factor\n",
    "        self.epsilon = self.initial_epsilon = epsilon  # initial exploration rate\n",
    "        self.epsilon_decay_rate = epsilon_decay_rate   \n",
    "        self.min_epsilon = min_epsilon\n",
    "\n",
    "    def reset_episode(self, state):\n",
    "        self.epsilon *= self.epsilon_decay_rate\n",
    "        self.epsilon = max(self.epsilon, self.min_epsilon)\n",
    "        \n",
    "        self.last_state = state\n",
    "        Q_s = [self.tq.get(state, action) for action in range(self.action_size)]\n",
    "        self.last_action = np.argmax(Q_s)\n",
    "        return self.last_action\n",
    "    \n",
    "    def reset_exploration(self, epsilon=None):\n",
    "        self.epsilon = epsilon if epsilon is not None else self.initial_epsilon\n",
    "    def act(self, state, reward=None, done=None, mode='train'):\n",
    "        Q_s = [self.tq.get(state, action) for action in range(self.action_size)]\n",
    "        # Pick the best action from Q table\n",
    "        greedy_action = np.argmax(Q_s)\n",
    "        if mode == 'test':\n",
    "            action = greedy_action\n",
    "        else:\n",
    "\n",
    "            value = reward + self.gamma * max(Q_s)\n",
    "            self.tq.update(self.last_state, self.last_action, value, self.alpha)\n",
    "\n",
    "            do_exploration = np.random.uniform(0, 1) < self.epsilon\n",
    "            if do_exploration:\n",
    "                # Pick a random action\n",
    "                action = np.random.randint(0, self.action_size)\n",
    "            else:\n",
    "                action = greedy_action\n",
    "\n",
    "        self.last_state = state\n",
    "        self.last_action = action\n",
    "        return action"
   ]
  },
  {
   "cell_type": "code",
   "execution_count": 2,
   "metadata": {},
   "outputs": [
    {
     "name": "stdout",
     "output_type": "stream",
     "text": [
      "State space: Box(-28.274333953857422, 28.274333953857422, (6,), float32)\n",
      "- low: [ -1.     -1.     -1.     -1.    -12.566 -28.274]\n",
      "- high: [ 1.     1.     1.     1.    12.566 28.274]\n",
      "Action space: Discrete(3)\n"
     ]
    }
   ],
   "source": [
    "# Create an environment\n",
    "env = gym.make('Acrobot-v1')\n",
    "env.seed(505);\n",
    "\n",
    "# Explore state (observation) space\n",
    "print(\"State space:\", env.observation_space)\n",
    "print(\"- low:\", env.observation_space.low)\n",
    "print(\"- high:\", env.observation_space.high)\n",
    "\n",
    "# Explore action space\n",
    "print(\"Action space:\", env.action_space)"
   ]
  },
  {
   "cell_type": "code",
   "execution_count": 10,
   "metadata": {},
   "outputs": [
    {
     "name": "stdout",
     "output_type": "stream",
     "text": [
      "Tiling: [<low>, <high>] / <bins> + (<offset>) => <splits>\n",
      "    [-1.0, 1.0] / 5 + (-0.13333334028720856) => [-0.733 -0.333  0.067  0.467]\n",
      "    [-1.0, 1.0] / 5 + (-0.13333334028720856) => [-0.733 -0.333  0.067  0.467]\n",
      "    [-1.0, 1.0] / 5 + (-0.13333334028720856) => [-0.733 -0.333  0.067  0.467]\n",
      "    [-1.0, 1.0] / 5 + (-0.13333334028720856) => [-0.733 -0.333  0.067  0.467]\n",
      "    [-12.566370964050293, 12.566370964050293] / 5 + (-1.675516128540039) => [-9.215 -4.189  0.838  5.864]\n",
      "    [-28.274333953857422, 28.274333953857422] / 5 + (-3.769911289215088) => [-20.735  -9.425   1.885  13.195]\n",
      "Tiling: [<low>, <high>] / <bins> + (<offset>) => <splits>\n",
      "    [-1.0, 1.0] / 5 + (0.0) => [-0.6 -0.2  0.2  0.6]\n",
      "    [-1.0, 1.0] / 5 + (0.0) => [-0.6 -0.2  0.2  0.6]\n",
      "    [-1.0, 1.0] / 5 + (0.0) => [-0.6 -0.2  0.2  0.6]\n",
      "    [-1.0, 1.0] / 5 + (0.0) => [-0.6 -0.2  0.2  0.6]\n",
      "    [-12.566370964050293, 12.566370964050293] / 5 + (0.0) => [-7.54  -2.513  2.513  7.54 ]\n",
      "    [-28.274333953857422, 28.274333953857422] / 5 + (0.0) => [-16.965  -5.655   5.655  16.965]\n",
      "Tiling: [<low>, <high>] / <bins> + (<offset>) => <splits>\n",
      "    [-1.0, 1.0] / 5 + (0.13333334028720856) => [-0.467 -0.067  0.333  0.733]\n",
      "    [-1.0, 1.0] / 5 + (0.13333334028720856) => [-0.467 -0.067  0.333  0.733]\n",
      "    [-1.0, 1.0] / 5 + (0.13333334028720856) => [-0.467 -0.067  0.333  0.733]\n",
      "    [-1.0, 1.0] / 5 + (0.13333334028720856) => [-0.467 -0.067  0.333  0.733]\n",
      "    [-12.566370964050293, 12.566370964050293] / 5 + (1.675516128540039) => [-5.864 -0.838  4.189  9.215]\n",
      "    [-28.274333953857422, 28.274333953857422] / 5 + (3.769911289215088) => [-13.195  -1.885   9.425  20.735]\n",
      "QTable(): size = (5, 5, 5, 5, 5, 5, 3)\n",
      "QTable(): size = (5, 5, 5, 5, 5, 5, 3)\n",
      "QTable(): size = (5, 5, 5, 5, 5, 5, 3)\n",
      "TiledQTable(): no. of internal tables =  3\n",
      "Environment: <TimeLimit<AcrobotEnv<Acrobot-v1>>>\n",
      "State space sizes: [(5, 5, 5, 5, 5, 5), (5, 5, 5, 5, 5, 5), (5, 5, 5, 5, 5, 5)]\n",
      "Action space size: 3\n"
     ]
    }
   ],
   "source": [
    "n_bins = 5\n",
    "bins = tuple([n_bins]*env.observation_space.shape[0])\n",
    "offset_pos = (env.observation_space.high - env.observation_space.low)/(3*n_bins)\n",
    "\n",
    "tiling_specs = [(bins, -offset_pos),\n",
    "                (bins, tuple([0.0]*env.observation_space.shape[0])),\n",
    "                (bins, offset_pos)]\n",
    "\n",
    "tq = TiledQTable(env.observation_space.low, \n",
    "                 env.observation_space.high, \n",
    "                 tiling_specs, \n",
    "                 env.action_space.n)\n",
    "agent = QLearningAgent(env, tq)"
   ]
  },
  {
   "cell_type": "code",
   "execution_count": 11,
   "metadata": {},
   "outputs": [
    {
     "name": "stdout",
     "output_type": "stream",
     "text": [
      "Episode 3000/3000 | Max Average Score: -345.74"
     ]
    }
   ],
   "source": [
    "def run(agent, env, num_episodes=3000, mode='train'):\n",
    "    \"\"\"Run agent in given reinforcement learning environment and return scores.\"\"\"\n",
    "    scores = []\n",
    "    max_avg_score = -np.inf\n",
    "    for i_episode in range(1, num_episodes+1):\n",
    "        # Initialize episode\n",
    "        state = env.reset()\n",
    "        action = agent.reset_episode(state)\n",
    "        total_reward = 0\n",
    "        done = False\n",
    "\n",
    "        # Roll out steps until done\n",
    "        while not done:\n",
    "            state, reward, done, info = env.step(action)\n",
    "            total_reward += reward\n",
    "            action = agent.act(state, reward, done, mode)\n",
    "\n",
    "        # Save final score\n",
    "        scores.append(total_reward)\n",
    "\n",
    "        # Print episode stats\n",
    "        if mode == 'train':\n",
    "            if len(scores) > 100:\n",
    "                avg_score = np.mean(scores[-100:])\n",
    "                if avg_score > max_avg_score:\n",
    "                    max_avg_score = avg_score\n",
    "            if i_episode % 100 == 0:\n",
    "                print(\"\\rEpisode {}/{} | Max Average Score: {}\".format(i_episode, num_episodes, max_avg_score), end=\"\")\n",
    "                sys.stdout.flush()\n",
    "    return scores\n",
    "\n",
    "scorestrain = run(agent, env)"
   ]
  },
  {
   "cell_type": "code",
   "execution_count": 49,
   "metadata": {},
   "outputs": [
    {
     "data": {
      "image/png": "[encoded data removed]",
      "text/plain": [
       "<Figure size 432x288 with 1 Axes>"
      ]
     },
     "metadata": {},
     "output_type": "display_data"
    }
   ],
   "source": [
    "plt.style.use('seaborn-white')\n",
    "window = 10\n",
    "smoothed_rewards = [np.mean(scorestrain[i-window:i+1]) if i > window \n",
    "                    else np.mean(scorestrain[:i+1]) for i in range(len(scorestrain))]\n",
    "\n",
    "plt.figure(figsize=(6,4))\n",
    "plt.plot(scorestrain,color='steelblue',label='Episodic Reward')\n",
    "plt.plot(smoothed_rewards,color='darkorange',label='Averaged Episodic Reward')\n",
    "plt.ylabel('Total Rewards')\n",
    "plt.xlabel('Episodes')\n",
    "\n",
    "plt.legend()\n",
    "plt.legend.loc='best'\n",
    "plt.ylim((-500,-50))\n",
    "plt.show()"
   ]
  },
  {
   "cell_type": "code",
   "execution_count": 28,
   "metadata": {},
   "outputs": [
    {
     "data": {
      "text/plain": [
       "-446.53833333333336"
      ]
     },
     "execution_count": 28,
     "metadata": {},
     "output_type": "execute_result"
    }
   ],
   "source": [
    "np.mean(scorestrain)"
   ]
  },
  {
   "cell_type": "code",
   "execution_count": 29,
   "metadata": {},
   "outputs": [
    {
     "data": {
      "text/plain": [
       "81.07707360215271"
      ]
     },
     "execution_count": 29,
     "metadata": {},
     "output_type": "execute_result"
    }
   ],
   "source": [
    "np.std(scorestrain)"
   ]
  },
  {
   "cell_type": "code",
   "execution_count": 32,
   "metadata": {},
   "outputs": [
    {
     "name": "stdout",
     "output_type": "stream",
     "text": [
      "Environment: <TimeLimit<AcrobotEnv<Acrobot-v1>>>\n",
      "State space sizes: [(5, 5, 5, 5, 5, 5), (5, 5, 5, 5, 5, 5), (5, 5, 5, 5, 5, 5)]\n",
      "Action space size: 3\n"
     ]
    }
   ],
   "source": [
    "test = QLearningAgent(env, tq,'test')"
   ]
  },
  {
   "cell_type": "code",
   "execution_count": 33,
   "metadata": {},
   "outputs": [],
   "source": [
    "def run(agent, env, num_episodes=1000, mode='test'):\n",
    "    scores = []\n",
    "    max_avg_score = -np.inf\n",
    "    for i_episode in range(1, num_episodes+1):\n",
    "        # Initialize episode\n",
    "        state = env.reset()\n",
    "        action = agent.reset_episode(state)\n",
    "        total_reward = 0\n",
    "        done = False\n",
    "\n",
    "        # Roll out steps until done\n",
    "        while not done:\n",
    "            state, reward, done, info = env.step(action)\n",
    "            total_reward += reward\n",
    "            action = agent.act(state, reward, done, mode)\n",
    "\n",
    "        # Save final score\n",
    "        scores.append(total_reward)\n",
    "    return scores"
   ]
  },
  {
   "cell_type": "code",
   "execution_count": 34,
   "metadata": {},
   "outputs": [],
   "source": [
    "scorestest = run(test, env)"
   ]
  },
  {
   "cell_type": "code",
   "execution_count": 47,
   "metadata": {},
   "outputs": [
    {
     "data": {
      "image/png": "[encoded data removed]",
      "text/plain": [
       "<Figure size 432x288 with 1 Axes>"
      ]
     },
     "metadata": {},
     "output_type": "display_data"
    }
   ],
   "source": [
    "plt.style.use('seaborn-white')\n",
    "window = 10\n",
    "smoothed_rewards = [np.mean(scorestest[i-window:i+1]) if i > window \n",
    "                    else np.mean(scorestest[:i+1]) for i in range(len(scorestest))]\n",
    "\n",
    "plt.figure(figsize=(6,4))\n",
    "plt.plot(scorestrain,color='steelblue',label='Episodic Reward')\n",
    "plt.plot(smoothed_rewards,color='darkorange',label='Averaged Episodic Reward')\n",
    "plt.ylabel('Total Rewards')\n",
    "plt.xlabel('Episodes')\n",
    "\n",
    "plt.legend()\n",
    "plt.legend.loc='best'\n",
    "plt.ylim((-500,-50))\n",
    "plt.xlim((0,1000))\n",
    "plt.show()"
   ]
  },
  {
   "cell_type": "code",
   "execution_count": 37,
   "metadata": {},
   "outputs": [
    {
     "data": {
      "text/plain": [
       "-465.933"
      ]
     },
     "execution_count": 37,
     "metadata": {},
     "output_type": "execute_result"
    }
   ],
   "source": [
    "np.mean(scorestest)"
   ]
  },
  {
   "cell_type": "code",
   "execution_count": 38,
   "metadata": {},
   "outputs": [
    {
     "data": {
      "text/plain": [
       "59.31379697001365"
      ]
     },
     "execution_count": 38,
     "metadata": {},
     "output_type": "execute_result"
    }
   ],
   "source": [
    "np.std(scorestest)"
   ]
  },
  {
   "cell_type": "code",
   "execution_count": null,
   "metadata": {},
   "outputs": [],
   "source": []
  }
 ],
 "metadata": {
  "kernelspec": {
   "display_name": "Python 3",
   "language": "python",
   "name": "python3"
  },
  "language_info": {
   "codemirror_mode": {
    "name": "ipython",
    "version": 3
   },
   "file_extension": ".py",
   "mimetype": "text/x-python",
   "name": "python",
   "nbconvert_exporter": "python",
   "pygments_lexer": "ipython3",
   "version": "3.7.9"
  }
 },
 "nbformat": 4,
 "nbformat_minor": 4
}
